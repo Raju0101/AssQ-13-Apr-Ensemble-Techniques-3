{
 "cells": [
  {
   "cell_type": "markdown",
   "id": "d7e3ecdb-268f-46ac-9d39-150f1c78b087",
   "metadata": {},
   "source": [
    "# AssQ 13-Apr Ensemble Techniques-3\n"
   ]
  },
  {
   "cell_type": "code",
   "execution_count": null,
   "id": "c896a5c7-91d2-427c-b3ed-38b5d19fe894",
   "metadata": {},
   "outputs": [],
   "source": [
    "Q1. What is Random Forest Regressor?"
   ]
  },
  {
   "cell_type": "code",
   "execution_count": null,
   "id": "0d3c763d-6f3d-424c-9e49-e7d520451a41",
   "metadata": {},
   "outputs": [],
   "source": [
    "Random Forest Regression is a supervised learning algorithm that uses ensemble learning method for regression.\n",
    "Ensemble learning method is a technique that combines\n",
    "predictions from multiple machine learning algorithms to make a more accurate prediction than a single model.\n",
    "\n",
    "A random forest is a meta estimator that fits a number of classifying decision trees on various sub-samples of the dataset \n",
    "and uses averaging to improve the predictive accuracy and control over-fitting."
   ]
  },
  {
   "cell_type": "code",
   "execution_count": null,
   "id": "47a51daa-1e2b-4855-a133-9ff795b6f7af",
   "metadata": {},
   "outputs": [],
   "source": []
  },
  {
   "cell_type": "code",
   "execution_count": null,
   "id": "0b747fb8-c682-4ae4-9d39-1d61d47dd948",
   "metadata": {},
   "outputs": [],
   "source": [
    "Q2. How does Random Forest Regressor reduce the risk of overfitting?"
   ]
  },
  {
   "cell_type": "code",
   "execution_count": null,
   "id": "abed563f-7075-49cf-9794-8c03419b498a",
   "metadata": {},
   "outputs": [],
   "source": [
    "In general, random forests are much less likely to overfit than other models because they are made up of many weak\n",
    "classifiers that are trained completely independently on completely different subsets of the training data.\n",
    "\n",
    "The Random Forest algorithm does overfit. The generalization error variance is decreasing to zero in\n",
    "the Random Forest when more trees are added to the algorithm. However, the bias of the generalization does not change.\n",
    "To avoid overfitting in Random Forest the hyper-parameters of the algorithm should be tuned."
   ]
  },
  {
   "cell_type": "code",
   "execution_count": null,
   "id": "16b5ddba-d35f-48da-96b2-e9ebf6c2878c",
   "metadata": {},
   "outputs": [],
   "source": []
  },
  {
   "cell_type": "code",
   "execution_count": null,
   "id": "00ba6c0b-f953-49cd-94b0-a8b46073ef23",
   "metadata": {},
   "outputs": [],
   "source": [
    "Q3. How does Random Forest Regressor aggregate the predictions of multiple decision trees?"
   ]
  },
  {
   "cell_type": "code",
   "execution_count": null,
   "id": "09a19461-7894-46f5-8aa5-1ef98b441d95",
   "metadata": {},
   "outputs": [],
   "source": [
    "The random forest is a classification algorithm consisting of many decisions trees. \n",
    "It uses bagging and feature randomness when building each individual tree to try to create an uncorrelated\n",
    "forest of trees whose prediction by committee is more accurate than that of any individual tree.\n",
    "\n",
    "Random forest is a type of supervised learning algorithm that uses ensemble methods (bagging)\n",
    "to solve both regression and classification problems. The algorithm operates by constructing a multitude of \n",
    "decision trees at training time and outputting the mean/mode of prediction of the individual trees.\n",
    "\n",
    "Random Forest is just another Regression algorithm, so you can use all the regression metrics to assess its result.\n",
    "For example, you might use MAE, MSE, MASE, RMSE, MAPE, SMAPE, and others. However, from my experience, MAE and MSE are the most commonly used."
   ]
  },
  {
   "cell_type": "code",
   "execution_count": null,
   "id": "b9e4fcb1-b4c5-4f6e-b81e-5b5bf5ed3c71",
   "metadata": {},
   "outputs": [],
   "source": []
  },
  {
   "cell_type": "code",
   "execution_count": null,
   "id": "072ed273-2800-4a0f-a072-91d8871179aa",
   "metadata": {},
   "outputs": [],
   "source": [
    "Q4. What are the hyperparameters of Random Forest Regressor?"
   ]
  },
  {
   "cell_type": "code",
   "execution_count": null,
   "id": "f642ca70-46ab-4d6f-a828-a52db1d8dbc3",
   "metadata": {},
   "outputs": [],
   "source": [
    "In random forest, the hyperparameters are the number of trees, number of features and the type \n",
    "of trees (such as GBM or M5). The number of features is important and should be tuned. \n",
    "In this case, random forest is useful because it automatically tunes the number of features.\n",
    "\n",
    "What is the first set of hyperparameters used to fit a random forest model?\n",
    "Image result for What are the hyperparameters of Random Forest Regressor?\n",
    "Random Forest Hyperparameter #1: max_depth\n",
    "\n",
    "Using the max_depth parameter, I can limit up to what depth I want every tree in my random forest to grow. In this graph,\n",
    "we can clearly see that as the max depth of the decision tree increases, \n",
    "the performance of the model over the training set increases continuously.\n",
    "\n",
    "The Validation dataset is used during training to track the performance of your model on “unseen” data."
   ]
  },
  {
   "cell_type": "code",
   "execution_count": null,
   "id": "fe42d6ee-8b91-487c-9f50-e89f9c03ff2c",
   "metadata": {},
   "outputs": [],
   "source": []
  },
  {
   "cell_type": "code",
   "execution_count": null,
   "id": "d18edde6-fdde-447b-bd8e-da900b0b1f60",
   "metadata": {},
   "outputs": [],
   "source": [
    "Q5. What is the difference between Random Forest Regressor and Decision Tree Regressor?"
   ]
  },
  {
   "cell_type": "code",
   "execution_count": null,
   "id": "2f532c97-ce9e-4a00-a2ca-407a7b224411",
   "metadata": {},
   "outputs": [],
   "source": [
    "A decision tree combines some decisions, whereas a random forest combines several decision trees. \n",
    "Thus, it is a long process, yet slow. Whereas, a decision tree is fast and operates easily on large data sets,\n",
    "especially the linear one. The random forest model needs rigorous training.\n",
    "\n",
    "The critical difference between the random forest algorithm and decision tree is that decision trees are graphs \n",
    "that illustrate all possible outcomes of a decision using a branching approach.\n",
    "In contrast, the random forest algorithm output are a set of decision trees that work according to the output.\n",
    "\n",
    "Random forest is a ensemble learning method, which means it uses a combination of multiple models to make predictions.\n",
    "In contrast, decision tree is a single model that makes predictions based on a series of if-then rules.\n"
   ]
  },
  {
   "cell_type": "code",
   "execution_count": null,
   "id": "348fe733-5105-44c2-b118-a560e7306bd1",
   "metadata": {},
   "outputs": [],
   "source": []
  },
  {
   "cell_type": "code",
   "execution_count": null,
   "id": "7af86523-d46f-4e0b-8896-a870c1f53363",
   "metadata": {},
   "outputs": [],
   "source": [
    "Q6. What are the advantages and disadvantages of Random Forest Regressor?"
   ]
  },
  {
   "cell_type": "code",
   "execution_count": null,
   "id": "01fc3491-a103-4559-8267-805743d29369",
   "metadata": {},
   "outputs": [],
   "source": [
    "Advantages of random forest\n",
    "\n",
    "It can perform both regression and classification tasks. A random forest produces good predictions that can be understood easily.\n",
    "It can handle large datasets efficiently. \n",
    "The random forest algorithm provides a higher level of accuracy in predicting outcomes over the decision tree algorithm.\n",
    "\n",
    "It reduces overfitting in decision trees and helps to improve the accuracy.\n",
    "It is flexible to both classification and regression problems.\n",
    "It works well with both categorical and continuous values.\n",
    "It automates missing values present in the data.\n",
    "\n",
    "Disadvantages of Random Forest\n",
    "The main limitation of random forest is that a large number of trees can make the algorithm too slow and ineffective for real-time predictions. \n",
    "In general, these algorithms are fast to train, but quite slow to create predictions once they are trained."
   ]
  },
  {
   "cell_type": "code",
   "execution_count": null,
   "id": "d88650fb-a639-4a21-adec-03014ca0d3bc",
   "metadata": {},
   "outputs": [],
   "source": []
  },
  {
   "cell_type": "code",
   "execution_count": null,
   "id": "20041c3a-f8b4-4fb6-8ffc-e3ec7574ae17",
   "metadata": {},
   "outputs": [],
   "source": [
    "Q7. What is the output of Random Forest Regressor?"
   ]
  },
  {
   "cell_type": "code",
   "execution_count": null,
   "id": "6442bb0d-48e3-4d53-86b9-550bf843e7db",
   "metadata": {},
   "outputs": [],
   "source": [
    "Random forest operates by constructing a multitude of decision trees at training time and outputting \n",
    "the class that's the mode of the classes (classification) or mean prediction (regression) of the individual trees.\n",
    "\n",
    "For classification tasks, the output of the random forest is the class selected by most trees.\n",
    "For regression tasks, the mean or average prediction of the individual trees is returned. \n",
    "Random decision forests correct for decision trees' habit of overfitting to their training set."
   ]
  },
  {
   "cell_type": "code",
   "execution_count": null,
   "id": "db48de7e-60f9-4e9b-aefe-f48e3862b573",
   "metadata": {},
   "outputs": [],
   "source": []
  },
  {
   "cell_type": "code",
   "execution_count": null,
   "id": "8926a8df-e154-41e4-aee3-e7c8242aeab0",
   "metadata": {},
   "outputs": [],
   "source": [
    "Q8. Can Random Forest Regressor be used for classification tasks?"
   ]
  },
  {
   "cell_type": "code",
   "execution_count": null,
   "id": "f9e52dd5-f4e2-42ec-9181-fe88605ec64d",
   "metadata": {},
   "outputs": [],
   "source": [
    "Random Forest is a popular machine learning algorithm used for classification and regression tasks due to its high accuracy,\n",
    "robustness, feature importance, versatility, and scalability.\n",
    "\n",
    "Random Forest is a sophisticated and adaptable supervised machine learning technique that creates and \n",
    "combines a large number of decision trees to create a \"forest\". \n",
    "This can be used to solve classification and regression problems.\n",
    "\n",
    "A random forest is a machine learning technique that's used to solve regression and classification problems.\n",
    "It utilizes ensemble learning, which is a technique that combines many classifiers to provide solutions to complex problems.\n",
    "A random forest algorithm consists of many decision trees"
   ]
  },
  {
   "cell_type": "code",
   "execution_count": null,
   "id": "0eab4bf0-5184-4998-9e43-d937d4255fa2",
   "metadata": {},
   "outputs": [],
   "source": []
  },
  {
   "cell_type": "code",
   "execution_count": null,
   "id": "b036f8ec-2b81-4f15-811c-3720bd37598f",
   "metadata": {},
   "outputs": [],
   "source": []
  }
 ],
 "metadata": {
  "kernelspec": {
   "display_name": "Python 3 (ipykernel)",
   "language": "python",
   "name": "python3"
  },
  "language_info": {
   "codemirror_mode": {
    "name": "ipython",
    "version": 3
   },
   "file_extension": ".py",
   "mimetype": "text/x-python",
   "name": "python",
   "nbconvert_exporter": "python",
   "pygments_lexer": "ipython3",
   "version": "3.10.6"
  }
 },
 "nbformat": 4,
 "nbformat_minor": 5
}
